{
  "nbformat": 4,
  "nbformat_minor": 0,
  "metadata": {
    "colab": {
      "provenance": []
    },
    "kernelspec": {
      "name": "python3",
      "display_name": "Python 3"
    },
    "language_info": {
      "name": "python"
    }
  },
  "cells": [
    {
      "cell_type": "markdown",
      "source": [
        "**Q.1 Can you explain the logic and working of the Tower of Hanoi algorithm by writing a Java program?\n",
        "How does the recursion work, and how are the movements of disks between rods accomplished?**"
      ],
      "metadata": {
        "id": "kpSBmRoGscPr"
      }
    },
    {
      "cell_type": "code",
      "execution_count": 3,
      "metadata": {
        "colab": {
          "base_uri": "https://localhost:8080/"
        },
        "id": "cqjShPcksWav",
        "outputId": "ad8c422b-a0c6-4d18-e771-1e92244862e8"
      },
      "outputs": [
        {
          "output_type": "stream",
          "name": "stdout",
          "text": [
            "Steps to solve the Tower of Hanoi with 3 disks:\n",
            "Move disk 1 from rod A to rod C\n",
            "Move disk 2 from rod A to rod B\n",
            "Move disk 1 from rod C to rod B\n",
            "Move disk 3 from rod A to rod C\n",
            "Move disk 1 from rod B to rod A\n",
            "Move disk 2 from rod B to rod C\n",
            "Move disk 1 from rod A to rod C\n"
          ]
        }
      ],
      "source": [
        "def solve_tower_of_hanoi(n, from_rod, to_rod, aux_rod):\n",
        "    # Base case: Only one disk to move\n",
        "    if n == 1:\n",
        "        print(f\"Move disk 1 from rod {from_rod} to rod {to_rod}\")\n",
        "        return\n",
        "\n",
        "    # Move top n-1 disks from source rod to auxiliary rod\n",
        "    solve_tower_of_hanoi(n - 1, from_rod, aux_rod, to_rod)\n",
        "\n",
        "    # Move the nth disk from source rod to destination rod\n",
        "    print(f\"Move disk {n} from rod {from_rod} to rod {to_rod}\")\n",
        "\n",
        "    # Move n-1 disks from auxiliary rod to destination rod\n",
        "    solve_tower_of_hanoi(n - 1, aux_rod, to_rod, from_rod)\n",
        "\n",
        "# Example usage\n",
        "if __name__ == \"__main__\":\n",
        "    n = 3  # Number of disks\n",
        "    print(f\"Steps to solve the Tower of Hanoi with {n} disks:\")\n",
        "    solve_tower_of_hanoi(n, 'A', 'C', 'B')  # A, B, and C are names of rods\n"
      ]
    },
    {
      "cell_type": "markdown",
      "source": [
        "**Q.2 Given two strings word1 and word2, return the minimum number of operations required to convert word1\n",
        "to word2.**\n",
        "\n",
        "**Example 1:**\n",
        "\n",
        "**Input: word1 = \"horse\", word2 = \"ros\"**\n",
        "\n",
        "**Output: 3**\n",
        "\n",
        "**Explanation:**\n",
        "\n",
        "**horse -> rorse (replace 'h' with 'r')**\n",
        "\n",
        "**rorse -> rose (remove 'r')**\n",
        "\n",
        "**rose -> ros (remove 'e')**"
      ],
      "metadata": {
        "id": "Y5ZepGvVsz41"
      }
    },
    {
      "cell_type": "code",
      "source": [
        "def minDistance(word1: str, word2: str) -> int:\n",
        "    m, n = len(word1), len(word2)\n",
        "\n",
        "    # Create a (m+1) x (n+1) DP table\n",
        "    dp = [[0] * (n + 1) for _ in range(m + 1)]\n",
        "\n",
        "    # Initialize the DP table\n",
        "    for i in range(m + 1):\n",
        "        dp[i][0] = i\n",
        "    for j in range(n + 1):\n",
        "        dp[0][j] = j\n",
        "\n",
        "    # Fill the DP table\n",
        "    for i in range(1, m + 1):\n",
        "        for j in range(1, n + 1):\n",
        "            if word1[i - 1] == word2[j - 1]:\n",
        "                dp[i][j] = dp[i - 1][j - 1]\n",
        "            else:\n",
        "                dp[i][j] = min(dp[i - 1][j] + 1,     # Deletion\n",
        "                               dp[i][j - 1] + 1,     # Insertion\n",
        "                               dp[i - 1][j - 1] + 1  # Substitution\n",
        "                              )\n",
        "\n",
        "    return dp[m][n]\n",
        "\n",
        "# Example usage\n",
        "word1 = \"horse\"\n",
        "word2 = \"ros\"\n",
        "print(minDistance(word1, word2))  # Output: 3\n"
      ],
      "metadata": {
        "colab": {
          "base_uri": "https://localhost:8080/"
        },
        "id": "AFT-cK_UsjAs",
        "outputId": "2cfffbf2-0bd9-4abe-f9cb-aad39428a5b1"
      },
      "execution_count": 4,
      "outputs": [
        {
          "output_type": "stream",
          "name": "stdout",
          "text": [
            "3\n"
          ]
        }
      ]
    },
    {
      "cell_type": "markdown",
      "source": [
        "**Example 2:**\n",
        "\n",
        "**Input: word1 = \"intention\", word2 = \"execution\"**\n",
        "\n",
        "**Output: 5**\n",
        "\n",
        "**Explanation:**\n",
        "\n",
        "**intention -> inention (remove 't')**\n",
        "\n",
        "**inention -> enention (replace 'i' with 'e')**\n",
        "\n",
        "**enention -> exention (replace 'n' with 'x')**\n",
        "\n",
        "**exention -> exection (replace 'n' with 'c')**\n",
        "\n",
        "**exection -> execution (insert 'u')**\n"
      ],
      "metadata": {
        "id": "0hOk681vtZ_E"
      }
    },
    {
      "cell_type": "code",
      "source": [
        "def minDistance(word1: str, word2: str) -> int:\n",
        "    m, n = len(word1), len(word2)\n",
        "\n",
        "    # Create a (m+1) x (n+1) DP table\n",
        "    dp = [[0] * (n + 1) for _ in range(m + 1)]\n",
        "\n",
        "    # Initialize the DP table\n",
        "    for i in range(m + 1):\n",
        "        dp[i][0] = i  # Cost of deleting all characters from word1\n",
        "    for j in range(n + 1):\n",
        "        dp[0][j] = j  # Cost of inserting all characters into word1\n",
        "\n",
        "    # Fill the DP table\n",
        "    for i in range(1, m + 1):\n",
        "        for j in range(1, n + 1):\n",
        "            if word1[i - 1] == word2[j - 1]:\n",
        "                dp[i][j] = dp[i - 1][j - 1]\n",
        "            else:\n",
        "                dp[i][j] = min(dp[i - 1][j] + 1,     # Deletion\n",
        "                               dp[i][j - 1] + 1,     # Insertion\n",
        "                               dp[i - 1][j - 1] + 1  # Substitution\n",
        "                              )\n",
        "\n",
        "    return dp[m][n]\n",
        "\n",
        "# Example usage\n",
        "word1 = \"intention\"\n",
        "word2 = \"execution\"\n",
        "print(minDistance(word1, word2))  # Output: 5\n"
      ],
      "metadata": {
        "colab": {
          "base_uri": "https://localhost:8080/"
        },
        "id": "AJj3USgstO9c",
        "outputId": "1e75c822-a9cf-477b-dbfa-4152e603ec2f"
      },
      "execution_count": 5,
      "outputs": [
        {
          "output_type": "stream",
          "name": "stdout",
          "text": [
            "5\n"
          ]
        }
      ]
    },
    {
      "cell_type": "markdown",
      "source": [
        "**Q. 3 Print the max value of the array [ 13, 1, -3, 22, 5].**"
      ],
      "metadata": {
        "id": "OlmVAJVltsaL"
      }
    },
    {
      "cell_type": "code",
      "source": [
        "def find_max_recursive(arr, n):\n",
        "    # Base case: if the array has only one element, return that element\n",
        "    if n == 1:\n",
        "        return arr[0]\n",
        "\n",
        "    # Recursively find the maximum in the rest of the array\n",
        "    max_of_rest = find_max_recursive(arr, n-1)\n",
        "\n",
        "    # Compare the first element with the maximum of the rest of the array\n",
        "    return max(arr[n-1], max_of_rest)\n",
        "\n",
        "# Example usage\n",
        "array = [13, 1, -3, 22, 5]\n",
        "max_value = find_max_recursive(array, len(array))\n",
        "print(\"The maximum value is:\", max_value)\n"
      ],
      "metadata": {
        "colab": {
          "base_uri": "https://localhost:8080/"
        },
        "id": "sSbvEejftqCD",
        "outputId": "aa9de1c3-ff43-4aa0-f38a-8c181916e80f"
      },
      "execution_count": 6,
      "outputs": [
        {
          "output_type": "stream",
          "name": "stdout",
          "text": [
            "The maximum value is: 22\n"
          ]
        }
      ]
    },
    {
      "cell_type": "markdown",
      "source": [
        "**Q.4 Find the sum of the values of the array [92, 23, 15, -20, 10].**"
      ],
      "metadata": {
        "id": "7Ij54jhwuC6M"
      }
    },
    {
      "cell_type": "code",
      "source": [
        "def sum_recursive(arr, n):\n",
        "    # Base case: if the array has only one element, return that element\n",
        "    if n == 0:\n",
        "        return 0\n",
        "\n",
        "    # Recursively find the sum of the rest of the array\n",
        "    return arr[n-1] + sum_recursive(arr, n-1)\n",
        "\n",
        "# Example usage\n",
        "array = [92, 23, 15, -20, 10]\n",
        "total_sum = sum_recursive(array, len(array))\n",
        "print(\"The sum of the values is:\", total_sum)\n",
        "\n"
      ],
      "metadata": {
        "colab": {
          "base_uri": "https://localhost:8080/"
        },
        "id": "JeMTtvbPt_ur",
        "outputId": "37863c16-8454-4171-80ad-977d1e203c57"
      },
      "execution_count": 7,
      "outputs": [
        {
          "output_type": "stream",
          "name": "stdout",
          "text": [
            "The sum of the values is: 120\n"
          ]
        }
      ]
    },
    {
      "cell_type": "markdown",
      "source": [
        "**Q.5 Given a number n. Print if it is an armstrong number or not.An armstrong number is a number if the sum\n",
        "of every digit in that number raised to the power of total digits in that number is equal to the number**\n",
        "\n",
        "**Example : 153 = 1^3 + 5^3 + 3^3 = 1 + 125 + 27 = 153 hence 153 is an armstrong number. (Easy)**\n",
        "\n",
        "**Input1 : 153**\n",
        "\n",
        "**Output1 : Yes**\n",
        "\n",
        "**Input 2 : 134**\n",
        "\n",
        "**Output2 : No**"
      ],
      "metadata": {
        "id": "4r47vWnVuOAr"
      }
    },
    {
      "cell_type": "code",
      "source": [
        "def count_digits(n):\n",
        "    # Function to count the number of digits in the number\n",
        "    if n == 0:\n",
        "        return 0\n",
        "    return 1 + count_digits(n // 10)\n",
        "\n",
        "def sum_of_powers(n, num_digits):\n",
        "    # Function to calculate the sum of digits each raised to the power of num_digits\n",
        "    if n == 0:\n",
        "        return 0\n",
        "    return (n % 10) ** num_digits + sum_of_powers(n // 10, num_digits)\n",
        "\n",
        "def is_armstrong_number(n):\n",
        "    # Calculate the number of digits in the number\n",
        "    num_digits = count_digits(n)\n",
        "    # Calculate the Armstrong sum\n",
        "    armstrong_sum = sum_of_powers(n, num_digits)\n",
        "    # Check if the calculated sum matches the original number\n",
        "    return armstrong_sum == n\n",
        "\n",
        "# Example usage\n",
        "number1 = 153\n",
        "number2 = 134\n",
        "\n",
        "if is_armstrong_number(number1):\n",
        "    print(f\"Input: {number1}\\nOutput: Yes\")\n",
        "else:\n",
        "    print(f\"Input: {number1}\\nOutput: No\")\n",
        "\n",
        "if is_armstrong_number(number2):\n",
        "    print(f\"Input: {number2}\\nOutput: Yes\")\n",
        "else:\n",
        "    print(f\"Input: {number2}\\nOutput: No\")\n"
      ],
      "metadata": {
        "colab": {
          "base_uri": "https://localhost:8080/"
        },
        "id": "Jhnj7ik6uNN7",
        "outputId": "cb681167-917d-403b-9447-78af97fa0b7c"
      },
      "execution_count": 9,
      "outputs": [
        {
          "output_type": "stream",
          "name": "stdout",
          "text": [
            "Input: 153\n",
            "Output: Yes\n",
            "Input: 134\n",
            "Output: No\n"
          ]
        }
      ]
    },
    {
      "cell_type": "code",
      "source": [],
      "metadata": {
        "id": "p-Bwg0zzudub"
      },
      "execution_count": null,
      "outputs": []
    }
  ]
}